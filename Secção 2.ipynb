{
 "cells": [
  {
   "cell_type": "markdown",
   "id": "9739368f",
   "metadata": {},
   "source": [
    "### 5.\n",
    "O processamento de informação geográfica é uma ferramenta omnipresente no nosso dia a dia. Pretende-se\n",
    "estudar treinos associados a vários desportos. Foi criado um dataset associados a vários utilizadores da aplicação\n",
    "EndoMondo. Serão disponibilizado vários ficheiros json onde será possível explorar a dinâmica dos vários treinos.\n",
    "Pretende-se que sejam explorados usando a biblioteca ipyleaflet. Pretende-se que seja desenhadas as etapas,\n",
    "calculados o nº de km a subir e a descer, determinada a velocidade média (em todo o percurso e separadamente\n",
    "nos troços a subir e a descer), a distância em plano, etc. Devem comparar a evolução do ritmo cardíaco em\n",
    "vários percursos e relaciona-lo com as zonas de treino "
   ]
  },
  {
   "cell_type": "code",
   "execution_count": null,
   "id": "88f56acb",
   "metadata": {},
   "outputs": [],
   "source": []
  }
 ],
 "metadata": {
  "kernelspec": {
   "display_name": "Python 3",
   "language": "python",
   "name": "python3"
  },
  "language_info": {
   "codemirror_mode": {
    "name": "ipython",
    "version": 3
   },
   "file_extension": ".py",
   "mimetype": "text/x-python",
   "name": "python",
   "nbconvert_exporter": "python",
   "pygments_lexer": "ipython3",
   "version": "3.13.3"
  }
 },
 "nbformat": 4,
 "nbformat_minor": 5
}
