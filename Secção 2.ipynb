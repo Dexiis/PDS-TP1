{
 "cells": [
  {
   "cell_type": "markdown",
   "id": "523cec62",
   "metadata": {},
   "source": [
    "### 5.\n",
    "O processamento de informação geográfica é uma ferramenta omnipresente no nosso dia a dia. Pretende-se\n",
    "estudar treinos associados a vários desportos. Foi criado um dataset associados a vários utilizadores da aplicação\n",
    "EndoMondo. Serão disponibilizado vários ficheiros json onde será possível explorar a dinâmica dos vários treinos.\n",
    "Pretende-se que sejam explorados usando a biblioteca ipyleaflet. Pretende-se que seja desenhadas as etapas,\n",
    "calculados o nº de km a subir e a descer, determinada a velocidade média (em todo o percurso e separadamente\n",
    "nos troços a subir e a descer), a distância em plano, etc. Devem comparar a evolução do ritmo cardíaco em\n",
    "vários percursos e relaciona-lo com as zonas de treino."
   ]
  },
  {
   "cell_type": "code",
   "execution_count": null,
   "id": "88f56acb",
   "metadata": {},
   "outputs": [
    {
     "name": "stdout",
     "output_type": "stream",
     "text": [
      "\n",
      "--- Dados do primeiro treino (ID: 588988811) ---\n",
      "Desporto: bike (transport)\n",
      "ID de utilizador: 4997910\n",
      "Número de pontos de longitude: 500\n",
      "Número de pontos de latitude: 500\n",
      "Número de pontos de altitude: 500\n",
      "Número de pontos de ritmo cardíaco: 500\n",
      "Número de timestamps: 500\n",
      "\n",
      "Primeiros 5 pontos de dados:\n",
      "Ponto 1: Lat=-26.116309, Lon=28.098246, Alt=1637.4, FC=78, Timestamp=1440455857\n",
      "Ponto 2: Lat=-26.116348, Lon=28.097663, Alt=1637.4, FC=75, Timestamp=1440455864\n",
      "Ponto 3: Lat=-26.116369, Lon=28.097653, Alt=1637.4, FC=76, Timestamp=1440455871\n",
      "Ponto 4: Lat=-26.116361, Lon=28.097629, Alt=1627.0, FC=80, Timestamp=1440455878\n",
      "Ponto 5: Lat=-26.116485, Lon=28.097424, Alt=1624.0, FC=84, Timestamp=1440455885\n"
     ]
    },
    {
     "ename": "KeyError",
     "evalue": "'lating'",
     "output_type": "error",
     "traceback": [
      "\u001b[31m---------------------------------------------------------------------------\u001b[39m",
      "\u001b[31mKeyError\u001b[39m                                  Traceback (most recent call last)",
      "\u001b[36mCell\u001b[39m\u001b[36m \u001b[39m\u001b[32mIn[7]\u001b[39m\u001b[32m, line 46\u001b[39m\n\u001b[32m     43\u001b[39m     \u001b[38;5;28mprint\u001b[39m(\u001b[33m\"\u001b[39m\u001b[38;5;130;01m\\n\u001b[39;00m\u001b[33mO dicionário de treinos está vazio.\u001b[39m\u001b[33m\"\u001b[39m)\n\u001b[32m     45\u001b[39m mapa = ipyleaflet.Map(center = (\u001b[32m43\u001b[39m, \u001b[32m0\u001b[39m), zoom = \u001b[32m9\u001b[39m)\n\u001b[32m---> \u001b[39m\u001b[32m46\u001b[39m line = ipyleaflet.Polyline(locations=\u001b[43mdados_treinos\u001b[49m\u001b[43m[\u001b[49m\u001b[33;43m'\u001b[39;49m\u001b[33;43mlating\u001b[39;49m\u001b[33;43m'\u001b[39;49m\u001b[43m]\u001b[49m, fill = \u001b[38;5;28;01mFalse\u001b[39;00m)\n\u001b[32m     47\u001b[39m mapa.add_layer(line)\n\u001b[32m     48\u001b[39m mapa\n",
      "\u001b[31mKeyError\u001b[39m: 'lating'"
     ]
    }
   ],
   "source": [
    "\n",
    "import numpy as np\n",
    "import ipyleaflet\n",
    "import json\n",
    "import matplotlib as plt\n",
    "\n",
    "nome_ficheiro_json = 'endomondoHR_proper_subset.json' # <--- ATUALIZE COM O NOME REAL DO SEU FICHEIRO\n",
    "\n",
    "dados_treinos = {}\n",
    "\n",
    "with open(nome_ficheiro_json, 'r', encoding='utf-8') as f:\n",
    "    dados_treinos = json.load(f)\n",
    "    \n",
    "ids_treinos = list(dados_treinos.keys())\n",
    "\n",
    "\n",
    "# ISTO (PROVAVELMENTE) NÃO É O TRABALHO\n",
    "if ids_treinos:\n",
    "    numero_do_treino = 1\n",
    "    id_treino = ids_treinos[numero_do_treino - 1]\n",
    "    treino = dados_treinos[id_treino]\n",
    "\n",
    "    print(f\"\\n--- Dados do primeiro treino (ID: {id_treino}) ---\")\n",
    "    print(f\"Desporto: {treino.get('sport', 'Não especificado')}\")\n",
    "    print(f\"ID de utilizador: {treino.get('userId', 'Não especificado')}\")\n",
    "\n",
    "    # Aceder às listas de dados. Usamos .get() para evitar erros caso a chave não exista.\n",
    "    longitudes = treino.get('longitude', [])\n",
    "    latitudes = treino.get('latitude', [])\n",
    "    altitudes = treino.get('altitude', [])\n",
    "    ritmo_cardiaco = treino.get('heart_rate', [])\n",
    "    timestamps = treino.get('timestamp', [])\n",
    "\n",
    "    print(f\"Número de pontos de longitude: {len(longitudes)}\")\n",
    "    print(f\"Número de pontos de latitude: {len(latitudes)}\")\n",
    "    print(f\"Número de pontos de altitude: {len(altitudes)}\")\n",
    "    print(f\"Número de pontos de ritmo cardíaco: {len(ritmo_cardiaco)}\")\n",
    "    print(f\"Número de timestamps: {len(timestamps)}\")\n",
    "\n",
    "    num_pontos_exemplo = 5\n",
    "    print(f\"\\nPrimeiros {num_pontos_exemplo} pontos de dados:\")\n",
    "    for i in range(min(num_pontos_exemplo, len(longitudes))):\n",
    "        print(f\"Ponto {i+1}: Lat={latitudes[i]}, Lon={longitudes[i]}, Alt={altitudes[i]}, FC={ritmo_cardiaco[i] if i < len(ritmo_cardiaco) else 'N/A'}, Timestamp={timestamps[i]}\")\n",
    "\n",
    "else:\n",
    "    print(\"\\nO dicionário de treinos está vazio.\")\n",
    "    \n",
    "mapa = ipyleaflet.Map(center = (43, 0), zoom = 9)\n",
    "line = ipyleaflet.Polyline(locations=dados_treinos[''], fill = False)\n",
    "mapa.add_layer(line)\n",
    "mapa"
   ]
  }
 ],
 "metadata": {
  "kernelspec": {
   "display_name": "Python 3",
   "language": "python",
   "name": "python3"
  },
  "language_info": {
   "codemirror_mode": {
    "name": "ipython",
    "version": 3
   },
   "file_extension": ".py",
   "mimetype": "text/x-python",
   "name": "python",
   "nbconvert_exporter": "python",
   "pygments_lexer": "ipython3",
   "version": "3.13.3"
  }
 },
 "nbformat": 4,
 "nbformat_minor": 5
}
